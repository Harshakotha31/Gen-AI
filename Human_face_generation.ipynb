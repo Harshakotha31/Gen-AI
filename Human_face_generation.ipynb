{
  "nbformat": 4,
  "nbformat_minor": 0,
  "metadata": {
    "colab": {
      "provenance": [],
      "gpuType": "T4",
      "authorship_tag": "ABX9TyPuc4yOvcfZM7giY9JEJ8Xp",
      "include_colab_link": true
    },
    "kernelspec": {
      "name": "python3",
      "display_name": "Python 3"
    },
    "language_info": {
      "name": "python"
    },
    "accelerator": "GPU"
  },
  "cells": [
    {
      "cell_type": "markdown",
      "metadata": {
        "id": "view-in-github",
        "colab_type": "text"
      },
      "source": [
        "<a href=\"https://colab.research.google.com/github/Harshakotha31/Gen-AI/blob/main/Human_face_generation.ipynb\" target=\"_parent\"><img src=\"https://colab.research.google.com/assets/colab-badge.svg\" alt=\"Open In Colab\"/></a>"
      ]
    },
    {
      "cell_type": "code",
      "execution_count": null,
      "metadata": {
        "id": "3i_ft30gozv5"
      },
      "outputs": [],
      "source": [
        "!pip install -q diffusers transformers accelerate safetensors torch --upgrade\n",
        "!pip install -q ftfy\n",
        "\n",
        "\n",
        "import torch\n",
        "from diffusers import StableDiffusionPipeline\n",
        "from PIL import Image\n",
        "import matplotlib.pyplot as plt\n",
        "\n",
        "\n",
        "# Using the official Hugging Face model (you can choose another one if needed)\n",
        "model_id = \"runwayml/stable-diffusion-v1-5\"\n",
        "\n",
        "pipe = StableDiffusionPipeline.from_pretrained(\n",
        "    model_id,\n",
        "    torch_dtype=torch.float16\n",
        ").to(\"cuda\")  # Use GPU\n",
        "\n",
        "\n",
        "prompt = \"A realistic portrait of a smiling young woman with natural lighting, ultra-detailed, 8k\"\n",
        "\n",
        "\n",
        "image = pipe(prompt).images[0]\n",
        "\n",
        "\n",
        "plt.imshow(image)\n",
        "plt.axis(\"off\")\n",
        "plt.show()\n",
        "\n",
        "\n",
        "image.save(\"generated_face.png\")"
      ]
    },
    {
      "cell_type": "code",
      "source": [],
      "metadata": {
        "id": "3IcrkaDhsK6R"
      },
      "execution_count": 1,
      "outputs": []
    }
  ]
}